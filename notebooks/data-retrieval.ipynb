{
 "cells": [
  {
   "cell_type": "code",
   "execution_count": 1,
   "metadata": {},
   "outputs": [],
   "source": [
    "import httpx\n",
    "import pandas as pd\n",
    "import datetime as dt\n",
    "import streamlit as st\n",
    "import sqlite3\n",
    "import json  \n",
    "import time\n",
    "import darts\n",
    "from darts import TimeSeries"
   ]
  },
  {
   "cell_type": "code",
   "execution_count": 2,
   "metadata": {},
   "outputs": [],
   "source": [
    "# obtained from fuzzworks\n",
    "invData = pd.read_csv('../invTypes.csv')"
   ]
  },
  {
   "cell_type": "code",
   "execution_count": 4,
   "metadata": {},
   "outputs": [
    {
     "name": "stdout",
     "output_type": "stream",
     "text": [
      "Fetching market prices\n"
     ]
    },
    {
     "data": {
      "text/html": [
       "<div>\n",
       "<style scoped>\n",
       "    .dataframe tbody tr th:only-of-type {\n",
       "        vertical-align: middle;\n",
       "    }\n",
       "\n",
       "    .dataframe tbody tr th {\n",
       "        vertical-align: top;\n",
       "    }\n",
       "\n",
       "    .dataframe thead th {\n",
       "        text-align: right;\n",
       "    }\n",
       "</style>\n",
       "<table border=\"1\" class=\"dataframe\">\n",
       "  <thead>\n",
       "    <tr style=\"text-align: right;\">\n",
       "      <th></th>\n",
       "      <th>adjusted_price</th>\n",
       "      <th>average_price</th>\n",
       "      <th>type_id</th>\n",
       "      <th>date</th>\n",
       "    </tr>\n",
       "  </thead>\n",
       "  <tbody>\n",
       "    <tr>\n",
       "      <th>0</th>\n",
       "      <td>0.000000e+00</td>\n",
       "      <td>25771948.05</td>\n",
       "      <td>43691</td>\n",
       "      <td>2022-11-25 20:58:14.465705</td>\n",
       "    </tr>\n",
       "    <tr>\n",
       "      <th>1</th>\n",
       "      <td>1.011980e+06</td>\n",
       "      <td>1347033.78</td>\n",
       "      <td>32772</td>\n",
       "      <td>2022-11-25 20:58:14.465705</td>\n",
       "    </tr>\n",
       "    <tr>\n",
       "      <th>2</th>\n",
       "      <td>7.796540e+04</td>\n",
       "      <td>72606.19</td>\n",
       "      <td>32774</td>\n",
       "      <td>2022-11-25 20:58:14.465705</td>\n",
       "    </tr>\n",
       "    <tr>\n",
       "      <th>3</th>\n",
       "      <td>5.958966e+06</td>\n",
       "      <td>7696164.32</td>\n",
       "      <td>32780</td>\n",
       "      <td>2022-11-25 20:58:14.465705</td>\n",
       "    </tr>\n",
       "    <tr>\n",
       "      <th>4</th>\n",
       "      <td>7.481665e+00</td>\n",
       "      <td>6.09</td>\n",
       "      <td>32782</td>\n",
       "      <td>2022-11-25 20:58:14.465705</td>\n",
       "    </tr>\n",
       "    <tr>\n",
       "      <th>...</th>\n",
       "      <td>...</td>\n",
       "      <td>...</td>\n",
       "      <td>...</td>\n",
       "      <td>...</td>\n",
       "    </tr>\n",
       "    <tr>\n",
       "      <th>14029</th>\n",
       "      <td>0.000000e+00</td>\n",
       "      <td>3566967.92</td>\n",
       "      <td>46912</td>\n",
       "      <td>2022-11-25 20:58:14.465705</td>\n",
       "    </tr>\n",
       "    <tr>\n",
       "      <th>14030</th>\n",
       "      <td>0.000000e+00</td>\n",
       "      <td>41277741.94</td>\n",
       "      <td>46914</td>\n",
       "      <td>2022-11-25 20:58:14.465705</td>\n",
       "    </tr>\n",
       "    <tr>\n",
       "      <th>14031</th>\n",
       "      <td>0.000000e+00</td>\n",
       "      <td>13631.03</td>\n",
       "      <td>55645</td>\n",
       "      <td>2022-11-25 20:58:14.465705</td>\n",
       "    </tr>\n",
       "    <tr>\n",
       "      <th>14032</th>\n",
       "      <td>0.000000e+00</td>\n",
       "      <td>4596944.44</td>\n",
       "      <td>46916</td>\n",
       "      <td>2022-11-25 20:58:14.465705</td>\n",
       "    </tr>\n",
       "    <tr>\n",
       "      <th>14033</th>\n",
       "      <td>0.000000e+00</td>\n",
       "      <td>146206.74</td>\n",
       "      <td>55647</td>\n",
       "      <td>2022-11-25 20:58:14.465705</td>\n",
       "    </tr>\n",
       "  </tbody>\n",
       "</table>\n",
       "<p>14034 rows × 4 columns</p>\n",
       "</div>"
      ],
      "text/plain": [
       "       adjusted_price  average_price  type_id                       date\n",
       "0        0.000000e+00    25771948.05    43691 2022-11-25 20:58:14.465705\n",
       "1        1.011980e+06     1347033.78    32772 2022-11-25 20:58:14.465705\n",
       "2        7.796540e+04       72606.19    32774 2022-11-25 20:58:14.465705\n",
       "3        5.958966e+06     7696164.32    32780 2022-11-25 20:58:14.465705\n",
       "4        7.481665e+00           6.09    32782 2022-11-25 20:58:14.465705\n",
       "...               ...            ...      ...                        ...\n",
       "14029    0.000000e+00     3566967.92    46912 2022-11-25 20:58:14.465705\n",
       "14030    0.000000e+00    41277741.94    46914 2022-11-25 20:58:14.465705\n",
       "14031    0.000000e+00       13631.03    55645 2022-11-25 20:58:14.465705\n",
       "14032    0.000000e+00     4596944.44    46916 2022-11-25 20:58:14.465705\n",
       "14033    0.000000e+00      146206.74    55647 2022-11-25 20:58:14.465705\n",
       "\n",
       "[14034 rows x 4 columns]"
      ]
     },
     "execution_count": 4,
     "metadata": {},
     "output_type": "execute_result"
    }
   ],
   "source": [
    "def getMarketPrices(inplace=False):\n",
    "    print('Fetching market prices')\n",
    "    r = httpx.get(\n",
    "        'https://esi.evetech.net/latest/markets/prices/?datasource=tranquility',)\n",
    "    if(r.status_code == 200):\n",
    "        df = pd.read_json(r.text)\n",
    "        df['date'] = dt.datetime.now()\n",
    "        con = sqlite3.connect('../data/data.db')\n",
    "        df.to_sql(con=con, name=\"market_data\", if_exists=\"append\")\n",
    "        con.close()\n",
    "        if(inplace):\n",
    "            return(df)\n",
    "        # cur = con.cursor()\n",
    "        # cur.execute('select * from market_data')\n",
    "        # results = cur.fetchall()\n",
    "        # print(results)\n",
    "    else:\n",
    "        print(f\"Request did not succeed! {r.status_code}\")\n",
    "        rjson = json.loads(r.text)\n",
    "        if(rjson['timeout'] != None or 0):\n",
    "            time.sleep((rjson['timeout']/1000))\n",
    "getMarketPrices()\n",
    "# adjusted_price, average_price, type_id"
   ]
  },
  {
   "cell_type": "code",
   "execution_count": null,
   "metadata": {},
   "outputs": [],
   "source": [
    "def getItemPrices(id):\n",
    "    # refresh database with new data\n",
    "    getMarketPrices()\n",
    "    con = sqlite3.connect('../data.db')\n",
    "    # df = pd.read_sql_table(table_name='market_data',con=con,parse_dates='date')\n",
    "    # cur = con.cursor()\n",
    "    # cur.execute(\"select * from market_data\")\n",
    "    df = pd.read_sql('select * from market_data', con, parse_dates=['date'])\n",
    "    selected_df = df.loc[df['type_id'] == id]\n",
    "    if(len(selected_df) != 0):\n",
    "        return(selected_df)\n",
    "    else:\n",
    "        print('Sorry, either this is not a valid item id or something went wrong. :P')"
   ]
  },
  {
   "cell_type": "code",
   "execution_count": null,
   "metadata": {},
   "outputs": [],
   "source": [
    "def getIDInfo(id):\n",
    "    selected_row = invData.loc[invData['typeID'] == id]\n",
    "    return selected_row\n",
    "# getIDInfo(32772)"
   ]
  },
  {
   "cell_type": "code",
   "execution_count": null,
   "metadata": {},
   "outputs": [],
   "source": [
    "def getIdFromName(name):\n",
    "    # NOTE: This function could be improved with a better search engine\n",
    "    selected_rows = invData[invData['typeName'].str.contains(name, False)]\n",
    "    selected_rows = selected_rows[['typeName', 'typeID']]\n",
    "    return(selected_rows)\n",
    "# getIdFromName('Booster')"
   ]
  },
  {
   "cell_type": "code",
   "execution_count": null,
   "metadata": {},
   "outputs": [],
   "source": [
    "# def getHistoricalData():\n",
    "     # Jita region id: 30000142\n",
    "# update to the rant below some shitter was calling invalid ID types causing server load, so they shut down the endpoint indefinitely for now, fucking dumb ass's\n",
    "# This is makes me very angry, apparently the historical market data call doesn't work so I have to utilize time and bandwidth information to build my own db    "
   ]
  },
  {
   "cell_type": "code",
   "execution_count": null,
   "metadata": {},
   "outputs": [],
   "source": []
  }
 ],
 "metadata": {
  "kernelspec": {
   "display_name": "Python 3.11.0 (conda)",
   "language": "python",
   "name": "python3"
  },
  "language_info": {
   "codemirror_mode": {
    "name": "ipython",
    "version": 3
   },
   "file_extension": ".py",
   "mimetype": "text/x-python",
   "name": "python",
   "nbconvert_exporter": "python",
   "pygments_lexer": "ipython3",
   "version": "3.9.15"
  },
  "orig_nbformat": 4,
  "vscode": {
   "interpreter": {
    "hash": "1ae2ae2692dfc1c07e129644408a97e76237990466964fee524130ea11f1a816"
   }
  }
 },
 "nbformat": 4,
 "nbformat_minor": 2
}
