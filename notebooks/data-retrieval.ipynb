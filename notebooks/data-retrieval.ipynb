{
 "cells": [
  {
   "cell_type": "code",
   "execution_count": 2,
   "metadata": {},
   "outputs": [],
   "source": [
    "import httpx\n",
    "import pandas as pd\n",
    "import datetime as dt\n",
    "import sqlite3\n",
    "import json  \n",
    "import time\n",
    "import darts\n",
    "from darts import TimeSeries"
   ]
  },
  {
   "cell_type": "code",
   "execution_count": 3,
   "metadata": {},
   "outputs": [],
   "source": [
    "# obtained from fuzzworks\n",
    "invData = pd.read_csv('../invTypes.csv')"
   ]
  },
  {
   "cell_type": "code",
   "execution_count": 5,
   "metadata": {},
   "outputs": [
    {
     "name": "stdout",
     "output_type": "stream",
     "text": [
      "Fetching market prices\n"
     ]
    },
    {
     "data": {
      "text/html": [
       "<div>\n",
       "<style scoped>\n",
       "    .dataframe tbody tr th:only-of-type {\n",
       "        vertical-align: middle;\n",
       "    }\n",
       "\n",
       "    .dataframe tbody tr th {\n",
       "        vertical-align: top;\n",
       "    }\n",
       "\n",
       "    .dataframe thead th {\n",
       "        text-align: right;\n",
       "    }\n",
       "</style>\n",
       "<table border=\"1\" class=\"dataframe\">\n",
       "  <thead>\n",
       "    <tr style=\"text-align: right;\">\n",
       "      <th></th>\n",
       "      <th>adjusted_price</th>\n",
       "      <th>average_price</th>\n",
       "      <th>type_id</th>\n",
       "      <th>date</th>\n",
       "    </tr>\n",
       "  </thead>\n",
       "  <tbody>\n",
       "    <tr>\n",
       "      <th>0</th>\n",
       "      <td>0.000000e+00</td>\n",
       "      <td>24379193.55</td>\n",
       "      <td>43691</td>\n",
       "      <td>2022-12-14 19:13:20.637223</td>\n",
       "    </tr>\n",
       "    <tr>\n",
       "      <th>1</th>\n",
       "      <td>1.106410e+06</td>\n",
       "      <td>1504030.04</td>\n",
       "      <td>32772</td>\n",
       "      <td>2022-12-14 19:13:20.637223</td>\n",
       "    </tr>\n",
       "    <tr>\n",
       "      <th>2</th>\n",
       "      <td>7.189439e+04</td>\n",
       "      <td>68254.69</td>\n",
       "      <td>32774</td>\n",
       "      <td>2022-12-14 19:13:20.637223</td>\n",
       "    </tr>\n",
       "    <tr>\n",
       "      <th>3</th>\n",
       "      <td>5.746279e+06</td>\n",
       "      <td>7416848.51</td>\n",
       "      <td>32780</td>\n",
       "      <td>2022-12-14 19:13:20.637223</td>\n",
       "    </tr>\n",
       "    <tr>\n",
       "      <th>4</th>\n",
       "      <td>6.316466e+00</td>\n",
       "      <td>5.45</td>\n",
       "      <td>32782</td>\n",
       "      <td>2022-12-14 19:13:20.637223</td>\n",
       "    </tr>\n",
       "    <tr>\n",
       "      <th>...</th>\n",
       "      <td>...</td>\n",
       "      <td>...</td>\n",
       "      <td>...</td>\n",
       "      <td>...</td>\n",
       "    </tr>\n",
       "    <tr>\n",
       "      <th>14046</th>\n",
       "      <td>0.000000e+00</td>\n",
       "      <td>39499722.22</td>\n",
       "      <td>46914</td>\n",
       "      <td>2022-12-14 19:13:20.637223</td>\n",
       "    </tr>\n",
       "    <tr>\n",
       "      <th>14047</th>\n",
       "      <td>0.000000e+00</td>\n",
       "      <td>1584.49</td>\n",
       "      <td>44212</td>\n",
       "      <td>2022-12-14 19:13:20.637223</td>\n",
       "    </tr>\n",
       "    <tr>\n",
       "      <th>14048</th>\n",
       "      <td>0.000000e+00</td>\n",
       "      <td>1114.96</td>\n",
       "      <td>55645</td>\n",
       "      <td>2022-12-14 19:13:20.637223</td>\n",
       "    </tr>\n",
       "    <tr>\n",
       "      <th>14049</th>\n",
       "      <td>0.000000e+00</td>\n",
       "      <td>6456700.00</td>\n",
       "      <td>46916</td>\n",
       "      <td>2022-12-14 19:13:20.637223</td>\n",
       "    </tr>\n",
       "    <tr>\n",
       "      <th>14050</th>\n",
       "      <td>0.000000e+00</td>\n",
       "      <td>50020.93</td>\n",
       "      <td>55647</td>\n",
       "      <td>2022-12-14 19:13:20.637223</td>\n",
       "    </tr>\n",
       "  </tbody>\n",
       "</table>\n",
       "<p>14051 rows × 4 columns</p>\n",
       "</div>"
      ],
      "text/plain": [
       "       adjusted_price  average_price  type_id                       date\n",
       "0        0.000000e+00    24379193.55    43691 2022-12-14 19:13:20.637223\n",
       "1        1.106410e+06     1504030.04    32772 2022-12-14 19:13:20.637223\n",
       "2        7.189439e+04       68254.69    32774 2022-12-14 19:13:20.637223\n",
       "3        5.746279e+06     7416848.51    32780 2022-12-14 19:13:20.637223\n",
       "4        6.316466e+00           5.45    32782 2022-12-14 19:13:20.637223\n",
       "...               ...            ...      ...                        ...\n",
       "14046    0.000000e+00    39499722.22    46914 2022-12-14 19:13:20.637223\n",
       "14047    0.000000e+00        1584.49    44212 2022-12-14 19:13:20.637223\n",
       "14048    0.000000e+00        1114.96    55645 2022-12-14 19:13:20.637223\n",
       "14049    0.000000e+00     6456700.00    46916 2022-12-14 19:13:20.637223\n",
       "14050    0.000000e+00       50020.93    55647 2022-12-14 19:13:20.637223\n",
       "\n",
       "[14051 rows x 4 columns]"
      ]
     },
     "execution_count": 5,
     "metadata": {},
     "output_type": "execute_result"
    }
   ],
   "source": [
    "def getMarketPrices(inplace=False):\n",
    "    print('Fetching market prices')\n",
    "    r = httpx.get(\n",
    "        'https://esi.evetech.net/latest/markets/prices/?datasource=tranquility',)\n",
    "    if(r.status_code == 200):\n",
    "        df = pd.read_json(r.text)\n",
    "        df['date'] = dt.datetime.now()\n",
    "        con = sqlite3.connect('../data/data.db')\n",
    "        df.to_sql(con=con, name=\"market_data\", if_exists=\"append\")\n",
    "        con.close()\n",
    "        if(inplace):\n",
    "            return(df)\n",
    "        # cur = con.cursor()\n",
    "        # cur.execute('select * from market_data')\n",
    "        # results = cur.fetchall()\n",
    "        # print(results)\n",
    "    else:\n",
    "        print(f\"Request did not succeed! {r.status_code}\")\n",
    "        rjson = json.loads(r.text)\n",
    "        if(rjson['timeout'] != None or 0):\n",
    "            time.sleep((rjson['timeout']/1000))\n",
    "getMarketPrices(inplace=True)\n",
    "# adjusted_price, average_price, type_id"
   ]
  },
  {
   "cell_type": "code",
   "execution_count": null,
   "metadata": {},
   "outputs": [],
   "source": [
    "def getItemPrices(id):\n",
    "    # refresh database with new data\n",
    "    getMarketPrices()\n",
    "    con = sqlite3.connect('../data.db')\n",
    "    # df = pd.read_sql_table(table_name='market_data',con=con,parse_dates='date')\n",
    "    # cur = con.cursor()\n",
    "    # cur.execute(\"select * from market_data\")\n",
    "    df = pd.read_sql('select * from market_data', con, parse_dates=['date'])\n",
    "    selected_df = df.loc[df['type_id'] == id]\n",
    "    if(len(selected_df) != 0):\n",
    "        return(selected_df)\n",
    "    else:\n",
    "        print('Sorry, either this is not a valid item id or something went wrong. :P')"
   ]
  },
  {
   "cell_type": "code",
   "execution_count": null,
   "metadata": {},
   "outputs": [],
   "source": [
    "def getIDInfo(id):\n",
    "    selected_row = invData.loc[invData['typeID'] == id]\n",
    "    return selected_row\n",
    "# getIDInfo(32772)"
   ]
  },
  {
   "cell_type": "code",
   "execution_count": null,
   "metadata": {},
   "outputs": [],
   "source": [
    "def getIdFromName(name):\n",
    "    # NOTE: This function could be improved with a better search engine\n",
    "    selected_rows = invData[invData['typeName'].str.contains(name, False)]\n",
    "    selected_rows = selected_rows[['typeName', 'typeID']]\n",
    "    return(selected_rows)\n",
    "# getIdFromName('Booster')"
   ]
  },
  {
   "cell_type": "code",
   "execution_count": null,
   "metadata": {},
   "outputs": [],
   "source": [
    "# def getHistoricalData():\n",
    "     # Jita region id: 30000142\n",
    "# update to the rant below some shitter was calling invalid ID types causing server load, so they shut down the endpoint indefinitely for now, fucking dumb ass's\n",
    "# This is makes me very angry, apparently the historical market data call doesn't work so I have to utilize time and bandwidth information to build my own db    "
   ]
  },
  {
   "cell_type": "code",
   "execution_count": null,
   "metadata": {},
   "outputs": [],
   "source": []
  }
 ],
 "metadata": {
  "kernelspec": {
   "display_name": "Python 3",
   "language": "python",
   "name": "python3"
  },
  "language_info": {
   "codemirror_mode": {
    "name": "ipython",
    "version": 3
   },
   "file_extension": ".py",
   "mimetype": "text/x-python",
   "name": "python",
   "nbconvert_exporter": "python",
   "pygments_lexer": "ipython3",
   "version": "3.10.8 (main, Nov 24 2022, 14:13:03) [GCC 11.2.0]"
  },
  "orig_nbformat": 4,
  "vscode": {
   "interpreter": {
    "hash": "23c54dba8c18c53bd94e8e80bf3c39afce1c3ba7d1094aacc64c3062fc370071"
   }
  }
 },
 "nbformat": 4,
 "nbformat_minor": 2
}
