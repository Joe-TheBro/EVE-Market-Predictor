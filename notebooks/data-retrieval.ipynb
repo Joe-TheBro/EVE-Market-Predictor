{
 "cells": [
  {
   "cell_type": "code",
   "execution_count": 8,
   "metadata": {},
   "outputs": [],
   "source": [
    "import httpx\n",
    "import pandas as pd\n",
    "import datetime as dt\n",
    "import streamlit as st\n",
    "import sqlite3\n",
    "import json  \n",
    "import time\n",
    "import darts"
   ]
  },
  {
   "cell_type": "code",
   "execution_count": 2,
   "metadata": {},
   "outputs": [],
   "source": [
    "# obtained from fuzzworks\n",
    "invData = pd.read_csv('../data/invTypes.csv')"
   ]
  },
  {
   "cell_type": "code",
   "execution_count": 10,
   "metadata": {},
   "outputs": [],
   "source": [
    "def getMarketPrices(inplace=False):\n",
    "    print('Fetching market prices')\n",
    "    r = httpx.get(\n",
    "        'https://esi.evetech.net/latest/markets/prices/?datasource=tranquility',)\n",
    "    if(r.status_code == 200):\n",
    "        df = pd.read_json(r.text)\n",
    "        df['date'] = dt.datetime.now()\n",
    "        con = sqlite3.connect('../data/data.db')\n",
    "        df.to_sql(con=con, name=\"market_data\", if_exists=\"append\")\n",
    "        con.close()\n",
    "        if(inplace):\n",
    "            return(df)\n",
    "        # cur = con.cursor()\n",
    "        # cur.execute('select * from market_data')\n",
    "        # results = cur.fetchall()\n",
    "        # print(results)\n",
    "    else:\n",
    "        print(f\"Request did not succeed! {r.status_code}\")\n",
    "        rjson = json.loads(r.text)\n",
    "        if(rjson['timeout'] != None or 0):\n",
    "            time.sleep((rjson['timeout']/1000))\n",
    "# getMarketPrices()"
   ]
  },
  {
   "cell_type": "code",
   "execution_count": 4,
   "metadata": {},
   "outputs": [],
   "source": [
    "def getItemPrices(id):\n",
    "    # refresh database with new data\n",
    "    getMarketPrices()\n",
    "    con = sqlite3.connect('../data/data.db')\n",
    "    # df = pd.read_sql_table(table_name='market_data',con=con,parse_dates='date')\n",
    "    # cur = con.cursor()\n",
    "    # cur.execute(\"select * from market_data\")\n",
    "    df = pd.read_sql('select * from market_data', con, parse_dates=['date'])\n",
    "    selected_df = df.loc[df['type_id'] == id]\n",
    "    if(len(selected_df) != 0):\n",
    "        return(selected_df)\n",
    "    else:\n",
    "        print('Sorry, either this is not a valid item id or something went wrong. :P')"
   ]
  },
  {
   "cell_type": "code",
   "execution_count": 5,
   "metadata": {},
   "outputs": [],
   "source": [
    "def getIDInfo(id):\n",
    "    selected_row = invData.loc[invData['typeID'] == id]\n",
    "    return selected_row\n",
    "# getIDInfo(32772)"
   ]
  },
  {
   "cell_type": "code",
   "execution_count": 6,
   "metadata": {},
   "outputs": [],
   "source": [
    "def getIdFromName(name):\n",
    "    # NOTE: This function could be improved with a better search engine\n",
    "    selected_rows = invData[invData['typeName'].str.contains(name, False)]\n",
    "    selected_rows = selected_rows[['typeName', 'typeID']]\n",
    "    return(selected_rows)\n",
    "# getIdFromName('Booster')"
   ]
  },
  {
   "cell_type": "code",
   "execution_count": 7,
   "metadata": {},
   "outputs": [],
   "source": [
    "# def getHistoricalData():\n",
    "     # Jita region id: 30000142\n",
    "# update to the rant below some shitter was calling invalid ID types causing server load, so they shut down the endpoint indefinitely for now, fucking dumb ass's\n",
    "# This is makes me very angry, apparently the historical market data call doesn't work so I have to utilize time and bandwidth information to build my own db    "
   ]
  },
  {
   "cell_type": "code",
   "execution_count": null,
   "metadata": {},
   "outputs": [],
   "source": [
    "def dataCronJob():\n",
    "    while(True):\n",
    "        time.sleep(60)\n",
    "        getMarketPrices()\n",
    "    "
   ]
  }
 ],
 "metadata": {
  "kernelspec": {
   "display_name": "Python 3.10.4 64-bit",
   "language": "python",
   "name": "python3"
  },
  "language_info": {
   "codemirror_mode": {
    "name": "ipython",
    "version": 3
   },
   "file_extension": ".py",
   "mimetype": "text/x-python",
   "name": "python",
   "nbconvert_exporter": "python",
   "pygments_lexer": "ipython3",
   "version": "3.10.4"
  },
  "orig_nbformat": 4,
  "vscode": {
   "interpreter": {
    "hash": "3ad933181bd8a04b432d3370b9dc3b0662ad032c4dfaa4e4f1596c548f763858"
   }
  }
 },
 "nbformat": 4,
 "nbformat_minor": 2
}
