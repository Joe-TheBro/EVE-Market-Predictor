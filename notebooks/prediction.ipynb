{
 "cells": [
  {
   "cell_type": "code",
   "execution_count": 2,
   "metadata": {},
   "outputs": [],
   "source": [
    "import darts\n",
    "from darts import TimeSeries\n",
    "from darts.models import ExponentialSmoothing\n",
    "import pandas as pd\n",
    "import numpy as np\n",
    "import time\n",
    "import httpx\n",
    "import json\n",
    "import sqlite3\n",
    "import datetime as dt\n",
    "import matplotlib as plt\n",
    "import polars as pl"
   ]
  },
  {
   "cell_type": "code",
<<<<<<< HEAD
   "execution_count": null,
=======
   "execution_count": 3,
>>>>>>> d556b27e578df6c81b3a8f2f6659e5bdc792b7e5
   "metadata": {},
   "outputs": [],
   "source": [
    "# obtained from fuzzworks\n",
    "invData = pd.read_csv('../invTypes.csv')"
   ]
  },
  {
   "cell_type": "code",
<<<<<<< HEAD
   "execution_count": null,
=======
   "execution_count": 4,
>>>>>>> d556b27e578df6c81b3a8f2f6659e5bdc792b7e5
   "metadata": {},
   "outputs": [
    {
     "name": "stdout",
     "output_type": "stream",
     "text": [
      "Fetching market prices\n"
     ]
    },
    {
     "data": {
      "text/html": [
       "<div>\n",
       "<style scoped>\n",
       "    .dataframe tbody tr th:only-of-type {\n",
       "        vertical-align: middle;\n",
       "    }\n",
       "\n",
       "    .dataframe tbody tr th {\n",
       "        vertical-align: top;\n",
       "    }\n",
       "\n",
       "    .dataframe thead th {\n",
       "        text-align: right;\n",
       "    }\n",
       "</style>\n",
       "<table border=\"1\" class=\"dataframe\">\n",
       "  <thead>\n",
       "    <tr style=\"text-align: right;\">\n",
       "      <th></th>\n",
       "      <th>adjusted_price</th>\n",
       "      <th>average_price</th>\n",
       "      <th>type_id</th>\n",
       "      <th>date</th>\n",
       "    </tr>\n",
       "  </thead>\n",
       "  <tbody>\n",
       "    <tr>\n",
       "      <th>0</th>\n",
       "      <td>0.000000e+00</td>\n",
       "      <td>2.548115e+07</td>\n",
       "      <td>43691</td>\n",
       "      <td>2022-12-21 19:58:45.501402</td>\n",
       "    </tr>\n",
       "    <tr>\n",
       "      <th>1</th>\n",
       "      <td>1.095667e+06</td>\n",
       "      <td>1.552208e+06</td>\n",
       "      <td>32772</td>\n",
       "      <td>2022-12-21 19:58:45.501402</td>\n",
       "    </tr>\n",
       "    <tr>\n",
       "      <th>2</th>\n",
       "      <td>6.041785e+04</td>\n",
       "      <td>5.822355e+04</td>\n",
       "      <td>32774</td>\n",
       "      <td>2022-12-21 19:58:45.501402</td>\n",
       "    </tr>\n",
       "    <tr>\n",
       "      <th>3</th>\n",
       "      <td>5.787110e+06</td>\n",
       "      <td>7.372835e+06</td>\n",
       "      <td>32780</td>\n",
       "      <td>2022-12-21 19:58:45.501402</td>\n",
       "    </tr>\n",
       "    <tr>\n",
       "      <th>4</th>\n",
       "      <td>5.756053e+00</td>\n",
       "      <td>1.282600e+02</td>\n",
       "      <td>32782</td>\n",
       "      <td>2022-12-21 19:58:45.501402</td>\n",
       "    </tr>\n",
       "    <tr>\n",
       "      <th>...</th>\n",
       "      <td>...</td>\n",
       "      <td>...</td>\n",
       "      <td>...</td>\n",
       "      <td>...</td>\n",
       "    </tr>\n",
       "    <tr>\n",
       "      <th>14146</th>\n",
       "      <td>0.000000e+00</td>\n",
       "      <td>2.928200e+02</td>\n",
       "      <td>44212</td>\n",
       "      <td>2022-12-21 19:58:45.501402</td>\n",
       "    </tr>\n",
       "    <tr>\n",
       "      <th>14147</th>\n",
       "      <td>0.000000e+00</td>\n",
       "      <td>1.116440e+03</td>\n",
       "      <td>55645</td>\n",
       "      <td>2022-12-21 19:58:45.501402</td>\n",
       "    </tr>\n",
       "    <tr>\n",
       "      <th>14148</th>\n",
       "      <td>0.000000e+00</td>\n",
       "      <td>3.530000e+06</td>\n",
       "      <td>46916</td>\n",
       "      <td>2022-12-21 19:58:45.501402</td>\n",
       "    </tr>\n",
       "    <tr>\n",
       "      <th>14149</th>\n",
       "      <td>0.000000e+00</td>\n",
       "      <td>1.042500e+09</td>\n",
       "      <td>49149</td>\n",
       "      <td>2022-12-21 19:58:45.501402</td>\n",
       "    </tr>\n",
       "    <tr>\n",
       "      <th>14150</th>\n",
       "      <td>0.000000e+00</td>\n",
       "      <td>5.004389e+04</td>\n",
       "      <td>55647</td>\n",
       "      <td>2022-12-21 19:58:45.501402</td>\n",
       "    </tr>\n",
       "  </tbody>\n",
       "</table>\n",
       "<p>14151 rows × 4 columns</p>\n",
       "</div>"
      ],
      "text/plain": [
       "       adjusted_price  average_price  type_id                       date\n",
       "0        0.000000e+00   2.548115e+07    43691 2022-12-21 19:58:45.501402\n",
       "1        1.095667e+06   1.552208e+06    32772 2022-12-21 19:58:45.501402\n",
       "2        6.041785e+04   5.822355e+04    32774 2022-12-21 19:58:45.501402\n",
       "3        5.787110e+06   7.372835e+06    32780 2022-12-21 19:58:45.501402\n",
       "4        5.756053e+00   1.282600e+02    32782 2022-12-21 19:58:45.501402\n",
       "...               ...            ...      ...                        ...\n",
       "14146    0.000000e+00   2.928200e+02    44212 2022-12-21 19:58:45.501402\n",
       "14147    0.000000e+00   1.116440e+03    55645 2022-12-21 19:58:45.501402\n",
       "14148    0.000000e+00   3.530000e+06    46916 2022-12-21 19:58:45.501402\n",
       "14149    0.000000e+00   1.042500e+09    49149 2022-12-21 19:58:45.501402\n",
       "14150    0.000000e+00   5.004389e+04    55647 2022-12-21 19:58:45.501402\n",
       "\n",
       "[14151 rows x 4 columns]"
      ]
     },
     "execution_count": 4,
     "metadata": {},
     "output_type": "execute_result"
    }
   ],
   "source": [
    "def getMarketPrices(inplace=False):\n",
    "    print('Fetching market prices')\n",
    "    r = httpx.get(\n",
    "        'https://esi.evetech.net/latest/markets/prices/?datasource=tranquility',)\n",
    "    if (r.status_code == 200):\n",
    "        df = pd.read_json(r.text)\n",
    "        df['date'] = dt.datetime.now()\n",
    "        # con = sqlite3.connect('../data/data.db')\n",
    "        # df.to_sql(con=con, name=\"market_data\", if_exists=\"append\")\n",
    "        # con.close()\n",
    "        if (inplace):\n",
    "            return (df)\n",
    "        # cur = con.cursor()\n",
    "        # cur.execute('select * from market_data')\n",
    "        # results = cur.fetchall()\n",
    "        # print(results)\n",
    "    else:\n",
    "        print(f\"Request did not succeed! {r.status_code}\")\n",
    "        rjson = json.loads(r.text)\n",
    "        if (rjson['timeout'] != None or 0):\n",
    "            time.sleep((rjson['timeout']/1000))\n",
    "getMarketPrices(inplace=True)\n",
    "# adjusted_price, average_price, type_id"
   ]
  },
  {
   "cell_type": "code",
   "execution_count": null,
   "metadata": {},
   "outputs": [],
   "source": [
    "def getItemPrices(id):\n",
    "    # refresh database with new data\n",
    "    getMarketPrices()\n",
    "    con = sqlite3.connect('../data.db')\n",
    "    # df = pd.read_sql_table(table_name='market_data',con=con,parse_dates='date')\n",
    "    # cur = con.cursor()\n",
    "    # cur.execute(\"select * from market_data\")\n",
    "    df = pd.read_sql('select * from market_data', con, parse_dates=['date'])\n",
    "    selected_df = df.loc[df['type_id'] == id]\n",
    "    if (len(selected_df) != 0):\n",
    "        return (selected_df)\n",
    "    else:\n",
    "        print('Sorry, either this is not a valid item id or something went wrong. :P')"
   ]
  },
  {
   "cell_type": "code",
   "execution_count": null,
   "metadata": {},
   "outputs": [],
   "source": [
    "def getIDInfo(id):\n",
    "    selected_row = invData.loc[invData['typeID'] == id]\n",
    "    return selected_row\n",
    "# getIDInfo(32772)"
   ]
  },
  {
   "cell_type": "code",
   "execution_count": null,
   "metadata": {},
   "outputs": [],
   "source": [
    "def getIdFromName(name):\n",
    "    # NOTE: This function could be improved with a better search engine\n",
    "    selected_rows = invData[invData['typeName'].str.contains(name, False)]\n",
    "    selected_rows = selected_rows[['typeName', 'typeID']]\n",
    "    return (selected_rows)\n",
    "# getIdFromName('Booster')"
   ]
  },
  {
   "cell_type": "code",
   "execution_count": null,
   "metadata": {},
   "outputs": [],
   "source": [
    "def resample_one_minute(df):\n",
    "    # Make sure the dataframe has a datetime index\n",
    "    df.index = pd.to_datetime(df.index)\n",
    "    # Resample the dataframe on one minute intervals\n",
    "    df_resampled = df.resample('1T').mean()\n",
    "    return df_resampled"
   ]
  },
  {
   "cell_type": "code",
   "execution_count": null,
   "metadata": {},
   "outputs": [],
   "source": [
    "#Fix data for forecasting\n",
    "con = sqlite3.connect('../data.db')\n",
    "databaseframe = pd.read_sql(\n",
    "    'select * from market_data', con, parse_dates=['date'])\n",
    "con.close()\n",
    "fixedData = resample_one_minute(databaseframe)"
   ]
  },
  {
   "cell_type": "code",
   "execution_count": null,
   "metadata": {},
   "outputs": [],
   "source": [
    "#Adding polars usage because increasing data processing speed\n",
    "def createTimeseries():\n",
    "    con = '../data.db'\n",
    "    query = 'select * from market_data'\n",
    "    df = pl.read_sql(query, con)\n",
    "    # list_select_df = df.select([\"id\", \"color\"])\n",
    "    df = df.select([\"adjusted_price\", \"type_id\", \"date\"])\n",
    "    set_by_minute = df.groupby_dynamic('date', every='1T').agg(pl.col('adjusted_price').mean())\n",
    "    # I think this is how collect is used, not sure though, test on dataset later...\n",
    "    series = TimeSeries.from_dataframe(df=(set_by_minute.collect()), time_col='data')\n",
    "    train, val = series.split_after(.6)\n",
    "    return train, val, series"
   ]
  },
  {
   "cell_type": "code",
   "execution_count": null,
   "metadata": {},
   "outputs": [],
   "source": [
    "# con = sqlite3.connect('../data.db')\n",
    "# databaseframe = pd.read_sql('select * from market_data', con, parse_dates=['date'])\n",
    "# con.close()\n",
    "# series = TimeSeries.from_dataframe(df=fixedData, time_col='date')\n",
    "train, val, series = createTimeseries()\n",
    "model_es = ExponentialSmoothing()\n",
    "model_es.fit(train)\n",
    "probabilistic_forecast = model_es.predict(len(val), num_samples=500)\n",
    "\n",
    "series.plot(label=\"actual\")\n",
    "probabilistic_forecast.plot(label=\"probabilistic forecast\")\n",
    "plt.legend()\n",
    "plt.show()\n"
   ]
  }
 ],
 "metadata": {
  "kernelspec": {
   "display_name": "Python 3",
   "language": "python",
   "name": "python3"
  },
  "language_info": {
   "codemirror_mode": {
    "name": "ipython",
    "version": 3
   },
   "file_extension": ".py",
   "mimetype": "text/x-python",
   "name": "python",
   "nbconvert_exporter": "python",
   "pygments_lexer": "ipython3",
   "version": "3.10.8"
  },
  "orig_nbformat": 4,
  "vscode": {
   "interpreter": {
    "hash": "23c54dba8c18c53bd94e8e80bf3c39afce1c3ba7d1094aacc64c3062fc370071"
   }
  }
 },
 "nbformat": 4,
 "nbformat_minor": 2
}
